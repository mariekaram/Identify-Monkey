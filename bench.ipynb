{
 "cells": [
  {
   "cell_type": "markdown",
   "metadata": {},
   "source": [
    "### Import libraries\n"
   ]
  },
  {
   "cell_type": "code",
   "execution_count": 3,
   "metadata": {},
   "outputs": [],
   "source": [
    "import numpy as np\n",
    "import pandas as pd\n",
    "import os"
   ]
  },
  {
   "cell_type": "code",
   "execution_count": 4,
   "metadata": {},
   "outputs": [],
   "source": [
    "from keras.preprocessing import image\n",
    "from keras.applications.vgg16 import preprocess_input\n",
    "from keras.applications import VGG16\n",
    "from keras.models import Model\n",
    "from keras.utils import to_categorical"
   ]
  },
  {
   "cell_type": "markdown",
   "metadata": {},
   "source": [
    "### Iterate over all training images and load them into memory"
   ]
  },
  {
   "cell_type": "code",
   "execution_count": 5,
   "metadata": {},
   "outputs": [
    {
     "name": "stdout",
     "output_type": "stream",
     "text": [
      "200\n",
      "400\n",
      "600\n",
      "800\n",
      "1000\n"
     ]
    }
   ],
   "source": [
    "X,Y = [],[]\n",
    "for folder in os.listdir('training'):\n",
    "    label = int(folder[1])\n",
    "    label_co = to_categorical(label, num_classes=10)[0]\n",
    "    for im in os.listdir(os.path.join('training',folder)):\n",
    "        path = os.path.join(os.path.join('training',folder),im)\n",
    "        img = image.load_img(path, target_size=(224,224))\n",
    "        img = image.img_to_array(img)\n",
    "        img = img.reshape(1,img.shape[0],img.shape[1],img.shape[2])\n",
    "        img = preprocess_input(img)\n",
    "        X.append(img[0])\n",
    "        Y.append(label_co)\n",
    "        if len(X)%200 == 0:\n",
    "            print(len(X))"
   ]
  },
  {
   "cell_type": "code",
   "execution_count": 6,
   "metadata": {},
   "outputs": [],
   "source": [
    "x_train, y_train = np.array(X), np.array(Y)"
   ]
  },
  {
   "cell_type": "code",
   "execution_count": 7,
   "metadata": {},
   "outputs": [
    {
     "name": "stdout",
     "output_type": "stream",
     "text": [
      "(1098, 224, 224, 3) (1098, 10)\n"
     ]
    }
   ],
   "source": [
    "# print number of training files\n",
    "\n",
    "print(x_train.shape,y_train.shape)"
   ]
  },
  {
   "cell_type": "markdown",
   "metadata": {},
   "source": [
    "### Same for validation data"
   ]
  },
  {
   "cell_type": "code",
   "execution_count": 8,
   "metadata": {},
   "outputs": [
    {
     "name": "stdout",
     "output_type": "stream",
     "text": [
      "200\n"
     ]
    }
   ],
   "source": [
    "X,Y = [],[]\n",
    "for folder in os.listdir('validation'):\n",
    "    label = int(folder[1])\n",
    "    label_co = to_categorical(label, num_classes=10)[0]\n",
    "    for im in os.listdir(os.path.join('validation',folder)):\n",
    "        path = os.path.join(os.path.join('validation',folder),im)\n",
    "        img = image.load_img(path, target_size=(224,224))\n",
    "        img = image.img_to_array(img)\n",
    "        img = img.reshape(1,img.shape[0],img.shape[1],img.shape[2])\n",
    "        img = preprocess_input(img)\n",
    "        X.append(img[0])\n",
    "        Y.append(label_co)\n",
    "        if len(X)%200 == 0:\n",
    "            print(len(X))"
   ]
  },
  {
   "cell_type": "code",
   "execution_count": 9,
   "metadata": {},
   "outputs": [],
   "source": [
    "x_val, y_val = np.array(X), np.array(Y)"
   ]
  },
  {
   "cell_type": "code",
   "execution_count": 10,
   "metadata": {},
   "outputs": [
    {
     "name": "stdout",
     "output_type": "stream",
     "text": [
      "(272, 224, 224, 3) (272, 10)\n"
     ]
    }
   ],
   "source": [
    "# print number of validation files\n",
    "\n",
    "print(x_val.shape,y_val.shape)"
   ]
  },
  {
   "cell_type": "markdown",
   "metadata": {},
   "source": [
    "## train"
   ]
  },
  {
   "cell_type": "code",
   "execution_count": 11,
   "metadata": {},
   "outputs": [],
   "source": [
    "from keras.models import Model\n",
    "from keras import layers\n",
    "import numpy as np\n",
    "import pandas as pd\n",
    "import matplotlib.pyplot as plt\n",
    "%matplotlib inline"
   ]
  },
  {
   "cell_type": "code",
   "execution_count": 12,
   "metadata": {},
   "outputs": [],
   "source": [
    "# input features\n",
    "in1 = layers.Input(shape=(224,224,3,))\n",
    "\n",
    "X = layers.Conv2D(128,5,padding='valid',activation='relu')(in1)\n",
    "X = layers.GlobalAveragePooling2D()(X)\n",
    "\n",
    "# a fully connected layer with dropout\n",
    "X = layers.Dense(1024,activation='relu')(X)\n",
    "X = layers.Dropout(0.7)(X)\n",
    "\n",
    "# final layer\n",
    "X = layers.Dense(10,activation='softmax')(X)\n",
    "\n",
    "model = Model(inputs=in1,outputs=X)"
   ]
  },
  {
   "cell_type": "code",
   "execution_count": 13,
   "metadata": {},
   "outputs": [],
   "source": [
    "# compilation model.\n",
    "\n",
    "model.compile(optimizer='adam', loss='categorical_crossentropy', metrics=['accuracy'])"
   ]
  },
  {
   "cell_type": "code",
   "execution_count": 14,
   "metadata": {},
   "outputs": [
    {
     "name": "stdout",
     "output_type": "stream",
     "text": [
      "_________________________________________________________________\n",
      "Layer (type)                 Output Shape              Param #   \n",
      "=================================================================\n",
      "input_1 (InputLayer)         (None, 224, 224, 3)       0         \n",
      "_________________________________________________________________\n",
      "conv2d_1 (Conv2D)            (None, 220, 220, 128)     9728      \n",
      "_________________________________________________________________\n",
      "global_average_pooling2d_1 ( (None, 128)               0         \n",
      "_________________________________________________________________\n",
      "dense_1 (Dense)              (None, 1024)              132096    \n",
      "_________________________________________________________________\n",
      "dropout_1 (Dropout)          (None, 1024)              0         \n",
      "_________________________________________________________________\n",
      "dense_2 (Dense)              (None, 10)                10250     \n",
      "=================================================================\n",
      "Total params: 152,074\n",
      "Trainable params: 152,074\n",
      "Non-trainable params: 0\n",
      "_________________________________________________________________\n"
     ]
    }
   ],
   "source": [
    "model.summary()"
   ]
  },
  {
   "cell_type": "code",
   "execution_count": 15,
   "metadata": {},
   "outputs": [
    {
     "name": "stdout",
     "output_type": "stream",
     "text": [
      "Train on 1098 samples, validate on 272 samples\n",
      "Epoch 1/16\n",
      " - 11s - loss: 4.5957 - acc: 0.1630 - val_loss: 2.1734 - val_acc: 0.2537\n",
      "Epoch 2/16\n",
      " - 8s - loss: 2.4862 - acc: 0.1840 - val_loss: 1.9223 - val_acc: 0.3493\n",
      "Epoch 3/16\n",
      " - 8s - loss: 2.1636 - acc: 0.2350 - val_loss: 1.9367 - val_acc: 0.3382\n",
      "Epoch 4/16\n",
      " - 8s - loss: 2.1432 - acc: 0.2413 - val_loss: 1.9097 - val_acc: 0.3419\n",
      "Epoch 5/16\n",
      " - 8s - loss: 2.1099 - acc: 0.2459 - val_loss: 1.9425 - val_acc: 0.3235\n",
      "Epoch 6/16\n",
      " - 8s - loss: 2.0895 - acc: 0.2614 - val_loss: 1.9210 - val_acc: 0.3162\n",
      "Epoch 7/16\n",
      " - 8s - loss: 2.0706 - acc: 0.2514 - val_loss: 1.9979 - val_acc: 0.2757\n",
      "Epoch 8/16\n",
      " - 8s - loss: 2.0003 - acc: 0.2732 - val_loss: 1.9438 - val_acc: 0.2904\n",
      "Epoch 9/16\n",
      " - 8s - loss: 2.0046 - acc: 0.2559 - val_loss: 1.8818 - val_acc: 0.3603\n",
      "Epoch 10/16\n",
      " - 8s - loss: 1.9746 - acc: 0.2678 - val_loss: 1.9497 - val_acc: 0.3272\n",
      "Epoch 11/16\n",
      " - 8s - loss: 2.0063 - acc: 0.2623 - val_loss: 1.8922 - val_acc: 0.3346\n",
      "Epoch 12/16\n",
      " - 8s - loss: 1.9387 - acc: 0.2969 - val_loss: 1.9034 - val_acc: 0.3346\n",
      "Epoch 13/16\n",
      " - 8s - loss: 1.9400 - acc: 0.2750 - val_loss: 1.8977 - val_acc: 0.3309\n",
      "Epoch 14/16\n",
      " - 8s - loss: 1.9320 - acc: 0.2987 - val_loss: 1.8618 - val_acc: 0.3603\n",
      "Epoch 15/16\n",
      " - 8s - loss: 1.9240 - acc: 0.2878 - val_loss: 1.8768 - val_acc: 0.3419\n",
      "Epoch 16/16\n",
      " - 8s - loss: 1.9247 - acc: 0.2914 - val_loss: 1.8306 - val_acc: 0.3419\n"
     ]
    }
   ],
   "source": [
    "# specify the number of epochs that you would like to use to train the model.\n",
    "\n",
    "hist = model.fit(x_train,y_train,validation_data=[x_val,y_val],epochs=16,verbose=2)"
   ]
  },
  {
   "cell_type": "markdown",
   "metadata": {},
   "source": [
    "### plot training history\n"
   ]
  },
  {
   "cell_type": "code",
   "execution_count": 16,
   "metadata": {},
   "outputs": [
    {
     "data": {
      "image/png": "[encoded data removed]",
      "text/plain": [
       "<matplotlib.figure.Figure at 0x7f71f49d4358>"
      ]
     },
     "metadata": {},
     "output_type": "display_data"
    },
    {
     "data": {
      "image/png": "[encoded data removed]",
      "text/plain": [
       "<matplotlib.figure.Figure at 0x7f71f4970fd0>"
      ]
     },
     "metadata": {},
     "output_type": "display_data"
    }
   ],
   "source": [
    "# summarize history for accuracy\n",
    "plt.plot(hist.history['acc'])\n",
    "plt.plot(hist.history['val_acc'])\n",
    "plt.title('model accuracy')\n",
    "plt.ylabel('accuracy')\n",
    "plt.xlabel('epoch')\n",
    "plt.legend(['train', 'test'], loc='upper left')\n",
    "plt.show()\n",
    "# summarize history for loss\n",
    "plt.plot(hist.history['loss'])\n",
    "plt.plot(hist.history['val_loss'])\n",
    "plt.title('model loss')\n",
    "plt.ylabel('loss')\n",
    "plt.xlabel('epoch')\n",
    "plt.legend(['train', 'test'], loc='upper left')\n",
    "plt.show()"
   ]
  },
  {
   "cell_type": "code",
   "execution_count": null,
   "metadata": {},
   "outputs": [],
   "source": []
  }
 ],
 "metadata": {
  "kernelspec": {
   "display_name": "Python 3",
   "language": "python",
   "name": "python3"
  },
  "language_info": {
   "codemirror_mode": {
    "name": "ipython",
    "version": 3
   },
   "file_extension": ".py",
   "mimetype": "text/x-python",
   "name": "python",
   "nbconvert_exporter": "python",
   "pygments_lexer": "ipython3",
   "version": "3.6.3"
  }
 },
 "nbformat": 4,
 "nbformat_minor": 2
}
